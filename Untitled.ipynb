{
 "cells": [
  {
   "cell_type": "code",
   "execution_count": 2,
   "metadata": {
    "collapsed": true
   },
   "outputs": [],
   "source": [
    "import pandas as pd\n",
    "import json"
   ]
  },
  {
   "cell_type": "code",
   "execution_count": null,
   "metadata": {
    "collapsed": true
   },
   "outputs": [],
   "source": [
    "data = pd.read_csv(\"rwe_point.csv\")"
   ]
  },
  {
   "cell_type": "code",
   "execution_count": null,
   "metadata": {
    "collapsed": true
   },
   "outputs": [],
   "source": [
    "data.info()"
   ]
  },
  {
   "cell_type": "code",
   "execution_count": null,
   "metadata": {
    "collapsed": true
   },
   "outputs": [],
   "source": [
    "data.head()"
   ]
  },
  {
   "cell_type": "code",
   "execution_count": null,
   "metadata": {
    "collapsed": true
   },
   "outputs": [],
   "source": [
    "data2 = data.drop([\"FID\",\"days_applicable\",\"dt_modified\",\"dt_created\",\"timestamp\",\"processed_time\"],axis=1)"
   ]
  },
  {
   "cell_type": "code",
   "execution_count": null,
   "metadata": {
    "collapsed": true
   },
   "outputs": [],
   "source": [
    "data2.info()"
   ]
  },
  {
   "cell_type": "code",
   "execution_count": null,
   "metadata": {
    "collapsed": true
   },
   "outputs": [],
   "source": [
    "data2.columns"
   ]
  },
  {
   "cell_type": "code",
   "execution_count": null,
   "metadata": {
    "collapsed": true
   },
   "outputs": [],
   "source": [
    "data2[data2.lanes_affected != 0].shape"
   ]
  },
  {
   "cell_type": "code",
   "execution_count": null,
   "metadata": {
    "collapsed": true
   },
   "outputs": [],
   "source": [
    "data3 = data2.drop(['start_pref_rdname',\n",
    "       'end_pref_rdname', 'lrs_start_locality', 'lrs_end_locality',\n",
    "       'lrs_rmaclass', 'lrs_srns', 'lrs_lga', 'lrs_ses_region', 'lrs_melway',\n",
    "       'lrs_vcsd', 'geom', 'works_type', 'speed_limit',],axis =1)"
   ]
  },
  {
   "cell_type": "code",
   "execution_count": null,
   "metadata": {
    "collapsed": true
   },
   "outputs": [],
   "source": [
    "data3.to_dict(orient='record')[0]"
   ]
  },
  {
   "cell_type": "code",
   "execution_count": null,
   "metadata": {
    "collapsed": true
   },
   "outputs": [],
   "source": [
    "geojson = []\n",
    "for i in data3.to_dict(orient='record'):\n",
    "    if i[\"lanes_affected\"] != 0:\n",
    "        point ={\n",
    "            \"type\": 'Feature',\n",
    "            \"geometry\": {\n",
    "            \"type\": 'Point',\n",
    "            \"coordinates\": [float(i['rwe_point'].split(\" \")[1][1:]), float(i['rwe_point'].split(\" \")[2][:-1])]},\n",
    "            \"properties\":{}}\n",
    "        point[\"properties\"] = {\n",
    "            \"description\": \"<p>Closure Type: \" + i['rwe_closure_type'] + \"</p><p>Start Date: \" + i[\"rwe_start_dt\"] + \"</p><p>End Date: \" + i[\"rwe_end_dt\"]\n",
    "                            + \"</p><p>Information: \" + i[\"rwe_publish_text\"] + \"</p>\",\n",
    "            \"icon\": \"star\"\n",
    "        }\n",
    "        geojson.append(point)\n",
    "   "
   ]
  },
  {
   "cell_type": "code",
   "execution_count": null,
   "metadata": {
    "collapsed": true
   },
   "outputs": [],
   "source": [
    "len(geojson)"
   ]
  },
  {
   "cell_type": "code",
   "execution_count": null,
   "metadata": {
    "collapsed": true
   },
   "outputs": [],
   "source": [
    "col =[]\n",
    "for i in geojson:\n",
    "    if i['geometry']['coordinates'][0] >144.948070 and i['geometry']['coordinates'][0] < 144.980588:\n",
    "        if i['geometry']['coordinates'][1] > -37.82475 and i['geometry']['coordinates'][1]<-37.805908:\n",
    "            col.append(i)"
   ]
  },
  {
   "cell_type": "code",
   "execution_count": null,
   "metadata": {
    "collapsed": true
   },
   "outputs": [],
   "source": [
    "col"
   ]
  },
  {
   "cell_type": "code",
   "execution_count": null,
   "metadata": {
    "collapsed": true
   },
   "outputs": [],
   "source": []
  },
  {
   "cell_type": "code",
   "execution_count": null,
   "metadata": {
    "collapsed": true
   },
   "outputs": [],
   "source": [
    "import json\n",
    "from geojson import Point, Feature, FeatureCollection, dump\n",
    "\n",
    "feature_collection = FeatureCollection(geojson)\n",
    "\n",
    "with open('myfile.geojson', 'w') as f:\n",
    "   dump(feature_collection, f)"
   ]
  },
  {
   "cell_type": "code",
   "execution_count": null,
   "metadata": {
    "collapsed": true
   },
   "outputs": [],
   "source": []
  },
  {
   "cell_type": "code",
   "execution_count": null,
   "metadata": {
    "collapsed": true
   },
   "outputs": [],
   "source": [
    "surface = pd.read_csv(\"com_road_surfaces.csv\")\n"
   ]
  },
  {
   "cell_type": "code",
   "execution_count": null,
   "metadata": {
    "collapsed": true
   },
   "outputs": [],
   "source": [
    "footway = surface[surface.type == \"Footway\"]"
   ]
  },
  {
   "cell_type": "code",
   "execution_count": null,
   "metadata": {
    "collapsed": true,
    "scrolled": true
   },
   "outputs": [],
   "source": [
    "surface"
   ]
  },
  {
   "cell_type": "code",
   "execution_count": null,
   "metadata": {
    "collapsed": true
   },
   "outputs": [],
   "source": [
    "list = []\n",
    "for i in footway.the_geom[13][16:-3].split(','):\n",
    "    log = float(i.strip().split(\" \")[0])\n",
    "    lat = float(i.strip().split(\" \")[1])\n",
    "    list.append([log,lat])"
   ]
  },
  {
   "cell_type": "code",
   "execution_count": null,
   "metadata": {
    "collapsed": true
   },
   "outputs": [],
   "source": [
    "list"
   ]
  },
  {
   "cell_type": "code",
   "execution_count": null,
   "metadata": {
    "collapsed": true
   },
   "outputs": [],
   "source": []
  },
  {
   "cell_type": "code",
   "execution_count": null,
   "metadata": {
    "collapsed": true
   },
   "outputs": [],
   "source": [
    "data4 = data2.drop(['rwe_id','start_pref_rdname',\n",
    "       'end_pref_rdname', 'lrs_start_locality', 'lrs_end_locality',\n",
    "       'lrs_rmaclass', 'lrs_srns', 'lrs_lga', 'lrs_ses_region', 'lrs_melway',\n",
    "       'lrs_vcsd', 'geom', 'works_type','rwe_point'],axis =1)"
   ]
  },
  {
   "cell_type": "code",
   "execution_count": null,
   "metadata": {
    "collapsed": true
   },
   "outputs": [],
   "source": [
    "data4"
   ]
  },
  {
   "cell_type": "code",
   "execution_count": null,
   "metadata": {
    "collapsed": true
   },
   "outputs": [],
   "source": [
    "data4.to_csv(\"road_construction.csv\", index = False)"
   ]
  },
  {
   "cell_type": "code",
   "execution_count": null,
   "metadata": {
    "collapsed": true
   },
   "outputs": [],
   "source": [
    "import csv"
   ]
  },
  {
   "cell_type": "code",
   "execution_count": null,
   "metadata": {
    "collapsed": true
   },
   "outputs": [],
   "source": [
    "reader = csv.reader('road_construction.csv', dialect='excel')"
   ]
  },
  {
   "cell_type": "code",
   "execution_count": null,
   "metadata": {
    "collapsed": true
   },
   "outputs": [],
   "source": [
    "with open('road_construction.csv', 'rt') as f:\n",
    "    reader = csv.reader(f, dialect='excel')\n",
    "    for row in reader:\n",
    "        print(row)\n",
    "        "
   ]
  },
  {
   "cell_type": "code",
   "execution_count": null,
   "metadata": {
    "collapsed": true
   },
   "outputs": [],
   "source": [
    "rwe_type = row[0]\n",
    "                    rwe_closure_type = row[1]\n",
    "                    rwe_status = row[2]\n",
    "                    rwe_start_dt = row[3]\n",
    "                    rwe_end_dt = row\n",
    "                    rwe_publish_text = row\n",
    "                    subject_pref_rdname =row\n",
    "                    traffic_delay =row\n",
    "                    speed_limit = row\n",
    "                    lanes_affected = row"
   ]
  },
  {
   "cell_type": "code",
   "execution_count": null,
   "metadata": {
    "collapsed": true
   },
   "outputs": [],
   "source": [
    "toilet = pd.read_csv('Wheelchair-accessible_public_toilets .csv')"
   ]
  },
  {
   "cell_type": "code",
   "execution_count": null,
   "metadata": {
    "collapsed": true
   },
   "outputs": [],
   "source": [
    "toilet.to_dict(orient='record')[0]"
   ]
  },
  {
   "cell_type": "code",
   "execution_count": null,
   "metadata": {
    "collapsed": true
   },
   "outputs": [],
   "source": [
    "geojson_toilet = []\n",
    "for i in toilet.to_dict(orient='record'):\n",
    "    point ={\n",
    "            \"type\": 'Feature',\n",
    "            \"geometry\": {\n",
    "            \"type\": 'Point',\n",
    "            \"coordinates\": [float(i['lon']),float(i['lat']),]},\n",
    "            \"properties\":{}}\n",
    "    point[\"properties\"] = {\n",
    "            \"description\": \"<p><strong>name: \" + i['name'] + \"</p><p>wheelchair: \" + i[\"wheelchair\"] + \"</p><p>Operator: \" + i[\"operator\"]\n",
    "                            + \"</p><p>male: \" + i[\"male\"] + \"</p><p>female: \" + i[\"female\"] + \"</p>\"\n",
    "        }\n",
    "    geojson_toilet.append(point)\n",
    "   "
   ]
  },
  {
   "cell_type": "code",
   "execution_count": null,
   "metadata": {
    "collapsed": true
   },
   "outputs": [],
   "source": [
    "geojson_toilet"
   ]
  },
  {
   "cell_type": "code",
   "execution_count": null,
   "metadata": {
    "collapsed": true
   },
   "outputs": [],
   "source": [
    "import json\n",
    "from geojson import Point, Feature, FeatureCollection, dump\n",
    "\n",
    "feature_collection_2 = FeatureCollection(geojson_toilet)\n",
    "\n",
    "with open('toilet.geojson', 'w') as f:\n",
    "   dump(feature_collection_2, f)"
   ]
  },
  {
   "cell_type": "code",
   "execution_count": 8,
   "metadata": {
    "collapsed": true
   },
   "outputs": [],
   "source": [
    "volume = pd.read_csv(\"volume.csv\")"
   ]
  },
  {
   "cell_type": "code",
   "execution_count": 13,
   "metadata": {},
   "outputs": [
    {
     "ename": "ValueError",
     "evalue": "labels ['ID' 'Sensor_ID' 'Unnamed: 0' 'Date_Time'] not contained in axis",
     "output_type": "error",
     "traceback": [
      "\u001b[1;31m---------------------------------------------------------------------------\u001b[0m",
      "\u001b[1;31mValueError\u001b[0m                                Traceback (most recent call last)",
      "\u001b[1;32m<ipython-input-13-99ff9cb2e75b>\u001b[0m in \u001b[0;36m<module>\u001b[1;34m()\u001b[0m\n\u001b[1;32m----> 1\u001b[1;33m \u001b[0mvolume\u001b[0m \u001b[1;33m=\u001b[0m \u001b[0mvolume\u001b[0m\u001b[1;33m.\u001b[0m\u001b[0mdrop\u001b[0m\u001b[1;33m(\u001b[0m\u001b[1;33m[\u001b[0m\u001b[1;34m\"ID\"\u001b[0m\u001b[1;33m,\u001b[0m\u001b[1;34m\"Sensor_ID\"\u001b[0m\u001b[1;33m,\u001b[0m\u001b[1;34m\"Unnamed: 0\"\u001b[0m\u001b[1;33m,\u001b[0m\u001b[1;34m\"Date_Time\"\u001b[0m\u001b[1;33m]\u001b[0m\u001b[1;33m,\u001b[0m\u001b[1;36m1\u001b[0m\u001b[1;33m)\u001b[0m\u001b[1;33m\u001b[0m\u001b[0m\n\u001b[0m",
      "\u001b[1;32mc:\\users\\tiany\\appdata\\local\\programs\\python\\python36\\lib\\site-packages\\pandas\\core\\generic.py\u001b[0m in \u001b[0;36mdrop\u001b[1;34m(self, labels, axis, index, columns, level, inplace, errors)\u001b[0m\n\u001b[0;32m   2528\u001b[0m         \u001b[1;32mfor\u001b[0m \u001b[0maxis\u001b[0m\u001b[1;33m,\u001b[0m \u001b[0mlabels\u001b[0m \u001b[1;32min\u001b[0m \u001b[0maxes\u001b[0m\u001b[1;33m.\u001b[0m\u001b[0mitems\u001b[0m\u001b[1;33m(\u001b[0m\u001b[1;33m)\u001b[0m\u001b[1;33m:\u001b[0m\u001b[1;33m\u001b[0m\u001b[0m\n\u001b[0;32m   2529\u001b[0m             \u001b[1;32mif\u001b[0m \u001b[0mlabels\u001b[0m \u001b[1;32mis\u001b[0m \u001b[1;32mnot\u001b[0m \u001b[1;32mNone\u001b[0m\u001b[1;33m:\u001b[0m\u001b[1;33m\u001b[0m\u001b[0m\n\u001b[1;32m-> 2530\u001b[1;33m                 \u001b[0mobj\u001b[0m \u001b[1;33m=\u001b[0m \u001b[0mobj\u001b[0m\u001b[1;33m.\u001b[0m\u001b[0m_drop_axis\u001b[0m\u001b[1;33m(\u001b[0m\u001b[0mlabels\u001b[0m\u001b[1;33m,\u001b[0m \u001b[0maxis\u001b[0m\u001b[1;33m,\u001b[0m \u001b[0mlevel\u001b[0m\u001b[1;33m=\u001b[0m\u001b[0mlevel\u001b[0m\u001b[1;33m,\u001b[0m \u001b[0merrors\u001b[0m\u001b[1;33m=\u001b[0m\u001b[0merrors\u001b[0m\u001b[1;33m)\u001b[0m\u001b[1;33m\u001b[0m\u001b[0m\n\u001b[0m\u001b[0;32m   2531\u001b[0m \u001b[1;33m\u001b[0m\u001b[0m\n\u001b[0;32m   2532\u001b[0m         \u001b[1;32mif\u001b[0m \u001b[0minplace\u001b[0m\u001b[1;33m:\u001b[0m\u001b[1;33m\u001b[0m\u001b[0m\n",
      "\u001b[1;32mc:\\users\\tiany\\appdata\\local\\programs\\python\\python36\\lib\\site-packages\\pandas\\core\\generic.py\u001b[0m in \u001b[0;36m_drop_axis\u001b[1;34m(self, labels, axis, level, errors)\u001b[0m\n\u001b[0;32m   2560\u001b[0m                 \u001b[0mnew_axis\u001b[0m \u001b[1;33m=\u001b[0m \u001b[0maxis\u001b[0m\u001b[1;33m.\u001b[0m\u001b[0mdrop\u001b[0m\u001b[1;33m(\u001b[0m\u001b[0mlabels\u001b[0m\u001b[1;33m,\u001b[0m \u001b[0mlevel\u001b[0m\u001b[1;33m=\u001b[0m\u001b[0mlevel\u001b[0m\u001b[1;33m,\u001b[0m \u001b[0merrors\u001b[0m\u001b[1;33m=\u001b[0m\u001b[0merrors\u001b[0m\u001b[1;33m)\u001b[0m\u001b[1;33m\u001b[0m\u001b[0m\n\u001b[0;32m   2561\u001b[0m             \u001b[1;32melse\u001b[0m\u001b[1;33m:\u001b[0m\u001b[1;33m\u001b[0m\u001b[0m\n\u001b[1;32m-> 2562\u001b[1;33m                 \u001b[0mnew_axis\u001b[0m \u001b[1;33m=\u001b[0m \u001b[0maxis\u001b[0m\u001b[1;33m.\u001b[0m\u001b[0mdrop\u001b[0m\u001b[1;33m(\u001b[0m\u001b[0mlabels\u001b[0m\u001b[1;33m,\u001b[0m \u001b[0merrors\u001b[0m\u001b[1;33m=\u001b[0m\u001b[0merrors\u001b[0m\u001b[1;33m)\u001b[0m\u001b[1;33m\u001b[0m\u001b[0m\n\u001b[0m\u001b[0;32m   2563\u001b[0m             \u001b[0mdropped\u001b[0m \u001b[1;33m=\u001b[0m \u001b[0mself\u001b[0m\u001b[1;33m.\u001b[0m\u001b[0mreindex\u001b[0m\u001b[1;33m(\u001b[0m\u001b[1;33m**\u001b[0m\u001b[1;33m{\u001b[0m\u001b[0maxis_name\u001b[0m\u001b[1;33m:\u001b[0m \u001b[0mnew_axis\u001b[0m\u001b[1;33m}\u001b[0m\u001b[1;33m)\u001b[0m\u001b[1;33m\u001b[0m\u001b[0m\n\u001b[0;32m   2564\u001b[0m             \u001b[1;32mtry\u001b[0m\u001b[1;33m:\u001b[0m\u001b[1;33m\u001b[0m\u001b[0m\n",
      "\u001b[1;32mc:\\users\\tiany\\appdata\\local\\programs\\python\\python36\\lib\\site-packages\\pandas\\core\\indexes\\base.py\u001b[0m in \u001b[0;36mdrop\u001b[1;34m(self, labels, errors)\u001b[0m\n\u001b[0;32m   3742\u001b[0m             \u001b[1;32mif\u001b[0m \u001b[0merrors\u001b[0m \u001b[1;33m!=\u001b[0m \u001b[1;34m'ignore'\u001b[0m\u001b[1;33m:\u001b[0m\u001b[1;33m\u001b[0m\u001b[0m\n\u001b[0;32m   3743\u001b[0m                 raise ValueError('labels %s not contained in axis' %\n\u001b[1;32m-> 3744\u001b[1;33m                                  labels[mask])\n\u001b[0m\u001b[0;32m   3745\u001b[0m             \u001b[0mindexer\u001b[0m \u001b[1;33m=\u001b[0m \u001b[0mindexer\u001b[0m\u001b[1;33m[\u001b[0m\u001b[1;33m~\u001b[0m\u001b[0mmask\u001b[0m\u001b[1;33m]\u001b[0m\u001b[1;33m\u001b[0m\u001b[0m\n\u001b[0;32m   3746\u001b[0m         \u001b[1;32mreturn\u001b[0m \u001b[0mself\u001b[0m\u001b[1;33m.\u001b[0m\u001b[0mdelete\u001b[0m\u001b[1;33m(\u001b[0m\u001b[0mindexer\u001b[0m\u001b[1;33m)\u001b[0m\u001b[1;33m\u001b[0m\u001b[0m\n",
      "\u001b[1;31mValueError\u001b[0m: labels ['ID' 'Sensor_ID' 'Unnamed: 0' 'Date_Time'] not contained in axis"
     ]
    }
   ],
   "source": [
    "volume = volume.drop([\"ID\",\"Sensor_ID\",\"Unnamed: 0\",\"Date_Time\"],1)"
   ]
  },
  {
   "cell_type": "code",
   "execution_count": 14,
   "metadata": {},
   "outputs": [
    {
     "data": {
      "text/html": [
       "<div>\n",
       "<style scoped>\n",
       "    .dataframe tbody tr th:only-of-type {\n",
       "        vertical-align: middle;\n",
       "    }\n",
       "\n",
       "    .dataframe tbody tr th {\n",
       "        vertical-align: top;\n",
       "    }\n",
       "\n",
       "    .dataframe thead th {\n",
       "        text-align: right;\n",
       "    }\n",
       "</style>\n",
       "<table border=\"1\" class=\"dataframe\">\n",
       "  <thead>\n",
       "    <tr style=\"text-align: right;\">\n",
       "      <th></th>\n",
       "      <th>Year</th>\n",
       "      <th>Month</th>\n",
       "      <th>Mdate</th>\n",
       "      <th>Day</th>\n",
       "      <th>Time</th>\n",
       "      <th>Sensor_Name</th>\n",
       "      <th>Hourly_Counts</th>\n",
       "    </tr>\n",
       "  </thead>\n",
       "  <tbody>\n",
       "    <tr>\n",
       "      <th>0</th>\n",
       "      <td>2018</td>\n",
       "      <td>June</td>\n",
       "      <td>24</td>\n",
       "      <td>Sunday</td>\n",
       "      <td>3</td>\n",
       "      <td>New Quay</td>\n",
       "      <td>22</td>\n",
       "    </tr>\n",
       "    <tr>\n",
       "      <th>1</th>\n",
       "      <td>2018</td>\n",
       "      <td>June</td>\n",
       "      <td>4</td>\n",
       "      <td>Monday</td>\n",
       "      <td>11</td>\n",
       "      <td>New Quay</td>\n",
       "      <td>158</td>\n",
       "    </tr>\n",
       "    <tr>\n",
       "      <th>2</th>\n",
       "      <td>2018</td>\n",
       "      <td>June</td>\n",
       "      <td>17</td>\n",
       "      <td>Sunday</td>\n",
       "      <td>1</td>\n",
       "      <td>New Quay</td>\n",
       "      <td>10</td>\n",
       "    </tr>\n",
       "    <tr>\n",
       "      <th>3</th>\n",
       "      <td>2018</td>\n",
       "      <td>June</td>\n",
       "      <td>17</td>\n",
       "      <td>Sunday</td>\n",
       "      <td>14</td>\n",
       "      <td>New Quay</td>\n",
       "      <td>71</td>\n",
       "    </tr>\n",
       "    <tr>\n",
       "      <th>4</th>\n",
       "      <td>2018</td>\n",
       "      <td>June</td>\n",
       "      <td>1</td>\n",
       "      <td>Friday</td>\n",
       "      <td>11</td>\n",
       "      <td>New Quay</td>\n",
       "      <td>174</td>\n",
       "    </tr>\n",
       "  </tbody>\n",
       "</table>\n",
       "</div>"
      ],
      "text/plain": [
       "   Year Month  Mdate     Day  Time Sensor_Name  Hourly_Counts\n",
       "0  2018  June     24  Sunday     3    New Quay             22\n",
       "1  2018  June      4  Monday    11    New Quay            158\n",
       "2  2018  June     17  Sunday     1    New Quay             10\n",
       "3  2018  June     17  Sunday    14    New Quay             71\n",
       "4  2018  June      1  Friday    11    New Quay            174"
      ]
     },
     "execution_count": 14,
     "metadata": {},
     "output_type": "execute_result"
    }
   ],
   "source": [
    "volume.head()"
   ]
  },
  {
   "cell_type": "code",
   "execution_count": 29,
   "metadata": {
    "scrolled": true
   },
   "outputs": [],
   "source": [
    "volume1 = pd.DataFrame(volume.groupby('Sensor_Name')['Hourly_Counts'].mean())"
   ]
  },
  {
   "cell_type": "code",
   "execution_count": 32,
   "metadata": {},
   "outputs": [],
   "source": [
    "volume1.reset_index(inplace=True)"
   ]
  },
  {
   "cell_type": "code",
   "execution_count": 33,
   "metadata": {},
   "outputs": [
    {
     "data": {
      "text/html": [
       "<div>\n",
       "<style scoped>\n",
       "    .dataframe tbody tr th:only-of-type {\n",
       "        vertical-align: middle;\n",
       "    }\n",
       "\n",
       "    .dataframe tbody tr th {\n",
       "        vertical-align: top;\n",
       "    }\n",
       "\n",
       "    .dataframe thead th {\n",
       "        text-align: right;\n",
       "    }\n",
       "</style>\n",
       "<table border=\"1\" class=\"dataframe\">\n",
       "  <thead>\n",
       "    <tr style=\"text-align: right;\">\n",
       "      <th></th>\n",
       "      <th>index</th>\n",
       "      <th>Sensor_Name</th>\n",
       "      <th>Hourly_Counts</th>\n",
       "    </tr>\n",
       "  </thead>\n",
       "  <tbody>\n",
       "    <tr>\n",
       "      <th>0</th>\n",
       "      <td>0</td>\n",
       "      <td>Alfred Place</td>\n",
       "      <td>235.655556</td>\n",
       "    </tr>\n",
       "    <tr>\n",
       "      <th>1</th>\n",
       "      <td>1</td>\n",
       "      <td>Birrarung Marr</td>\n",
       "      <td>337.652778</td>\n",
       "    </tr>\n",
       "    <tr>\n",
       "      <th>2</th>\n",
       "      <td>2</td>\n",
       "      <td>Bourke St-Russell St (West)</td>\n",
       "      <td>658.716667</td>\n",
       "    </tr>\n",
       "    <tr>\n",
       "      <th>3</th>\n",
       "      <td>3</td>\n",
       "      <td>Bourke Street Mall (North)</td>\n",
       "      <td>1364.259722</td>\n",
       "    </tr>\n",
       "    <tr>\n",
       "      <th>4</th>\n",
       "      <td>4</td>\n",
       "      <td>Bourke Street Mall (South)</td>\n",
       "      <td>938.318056</td>\n",
       "    </tr>\n",
       "  </tbody>\n",
       "</table>\n",
       "</div>"
      ],
      "text/plain": [
       "   index                  Sensor_Name  Hourly_Counts\n",
       "0      0                 Alfred Place     235.655556\n",
       "1      1               Birrarung Marr     337.652778\n",
       "2      2  Bourke St-Russell St (West)     658.716667\n",
       "3      3   Bourke Street Mall (North)    1364.259722\n",
       "4      4   Bourke Street Mall (South)     938.318056"
      ]
     },
     "execution_count": 33,
     "metadata": {},
     "output_type": "execute_result"
    }
   ],
   "source": [
    "volume1.head()"
   ]
  },
  {
   "cell_type": "code",
   "execution_count": 18,
   "metadata": {},
   "outputs": [],
   "source": [
    "data = pd.read_excel('First two parts.xlsx')"
   ]
  },
  {
   "cell_type": "code",
   "execution_count": 27,
   "metadata": {
    "scrolled": true
   },
   "outputs": [],
   "source": [
    "data['volume'] =0"
   ]
  },
  {
   "cell_type": "code",
   "execution_count": 36,
   "metadata": {},
   "outputs": [
    {
     "data": {
      "text/html": [
       "<div>\n",
       "<style scoped>\n",
       "    .dataframe tbody tr th:only-of-type {\n",
       "        vertical-align: middle;\n",
       "    }\n",
       "\n",
       "    .dataframe tbody tr th {\n",
       "        vertical-align: top;\n",
       "    }\n",
       "\n",
       "    .dataframe thead th {\n",
       "        text-align: right;\n",
       "    }\n",
       "</style>\n",
       "<table border=\"1\" class=\"dataframe\">\n",
       "  <thead>\n",
       "    <tr style=\"text-align: right;\">\n",
       "      <th></th>\n",
       "      <th>Street</th>\n",
       "      <th>Longitude</th>\n",
       "      <th>Latitude</th>\n",
       "      <th>volume</th>\n",
       "    </tr>\n",
       "  </thead>\n",
       "  <tbody>\n",
       "    <tr>\n",
       "      <th>0</th>\n",
       "      <td>City Square</td>\n",
       "      <td>144.966698</td>\n",
       "      <td>-37.815852</td>\n",
       "      <td>0</td>\n",
       "    </tr>\n",
       "    <tr>\n",
       "      <th>1</th>\n",
       "      <td>Chinatown-Lt Bourke St (South)</td>\n",
       "      <td>144.968251</td>\n",
       "      <td>-37.811658</td>\n",
       "      <td>0</td>\n",
       "    </tr>\n",
       "    <tr>\n",
       "      <th>2</th>\n",
       "      <td>The Arts Centre</td>\n",
       "      <td>144.969059</td>\n",
       "      <td>-37.821503</td>\n",
       "      <td>0</td>\n",
       "    </tr>\n",
       "    <tr>\n",
       "      <th>3</th>\n",
       "      <td>Flinders St-Spring St (West)</td>\n",
       "      <td>144.974818</td>\n",
       "      <td>-37.815048</td>\n",
       "      <td>0</td>\n",
       "    </tr>\n",
       "    <tr>\n",
       "      <th>4</th>\n",
       "      <td>Collins Place (South)</td>\n",
       "      <td>144.973141</td>\n",
       "      <td>-37.813607</td>\n",
       "      <td>0</td>\n",
       "    </tr>\n",
       "  </tbody>\n",
       "</table>\n",
       "</div>"
      ],
      "text/plain": [
       "                           Street   Longitude   Latitude  volume\n",
       "0                     City Square  144.966698 -37.815852       0\n",
       "1  Chinatown-Lt Bourke St (South)  144.968251 -37.811658       0\n",
       "2                 The Arts Centre  144.969059 -37.821503       0\n",
       "3    Flinders St-Spring St (West)  144.974818 -37.815048       0\n",
       "4           Collins Place (South)  144.973141 -37.813607       0"
      ]
     },
     "execution_count": 36,
     "metadata": {},
     "output_type": "execute_result"
    }
   ],
   "source": [
    "data.head()"
   ]
  },
  {
   "cell_type": "code",
   "execution_count": 37,
   "metadata": {},
   "outputs": [],
   "source": [
    "for i in range(volume1.shape[0]):\n",
    "    for n in range(data.shape[0]):\n",
    "        if volume1.loc[i,'Sensor_Name'] == data.loc[n,'Street']:\n",
    "            data.loc[n,'volume'] = volume1.loc[i,\"Hourly_Counts\"]"
   ]
  },
  {
   "cell_type": "code",
   "execution_count": 38,
   "metadata": {
    "scrolled": true
   },
   "outputs": [
    {
     "data": {
      "text/html": [
       "<div>\n",
       "<style scoped>\n",
       "    .dataframe tbody tr th:only-of-type {\n",
       "        vertical-align: middle;\n",
       "    }\n",
       "\n",
       "    .dataframe tbody tr th {\n",
       "        vertical-align: top;\n",
       "    }\n",
       "\n",
       "    .dataframe thead th {\n",
       "        text-align: right;\n",
       "    }\n",
       "</style>\n",
       "<table border=\"1\" class=\"dataframe\">\n",
       "  <thead>\n",
       "    <tr style=\"text-align: right;\">\n",
       "      <th></th>\n",
       "      <th>Street</th>\n",
       "      <th>Longitude</th>\n",
       "      <th>Latitude</th>\n",
       "      <th>volume</th>\n",
       "    </tr>\n",
       "  </thead>\n",
       "  <tbody>\n",
       "    <tr>\n",
       "      <th>0</th>\n",
       "      <td>City Square</td>\n",
       "      <td>144.966698</td>\n",
       "      <td>-37.815852</td>\n",
       "      <td>0.000000</td>\n",
       "    </tr>\n",
       "    <tr>\n",
       "      <th>1</th>\n",
       "      <td>Chinatown-Lt Bourke St (South)</td>\n",
       "      <td>144.968251</td>\n",
       "      <td>-37.811658</td>\n",
       "      <td>390.584722</td>\n",
       "    </tr>\n",
       "    <tr>\n",
       "      <th>2</th>\n",
       "      <td>The Arts Centre</td>\n",
       "      <td>144.969059</td>\n",
       "      <td>-37.821503</td>\n",
       "      <td>999.794444</td>\n",
       "    </tr>\n",
       "    <tr>\n",
       "      <th>3</th>\n",
       "      <td>Flinders St-Spring St (West)</td>\n",
       "      <td>144.974818</td>\n",
       "      <td>-37.815048</td>\n",
       "      <td>171.988889</td>\n",
       "    </tr>\n",
       "    <tr>\n",
       "      <th>4</th>\n",
       "      <td>Collins Place (South)</td>\n",
       "      <td>144.973141</td>\n",
       "      <td>-37.813607</td>\n",
       "      <td>432.605556</td>\n",
       "    </tr>\n",
       "    <tr>\n",
       "      <th>5</th>\n",
       "      <td>Melbourne Central</td>\n",
       "      <td>144.964031</td>\n",
       "      <td>-37.810156</td>\n",
       "      <td>1176.209722</td>\n",
       "    </tr>\n",
       "    <tr>\n",
       "      <th>6</th>\n",
       "      <td>Flinders Street Station Underpass</td>\n",
       "      <td>144.965511</td>\n",
       "      <td>-37.819102</td>\n",
       "      <td>1275.204167</td>\n",
       "    </tr>\n",
       "    <tr>\n",
       "      <th>7</th>\n",
       "      <td>Birrarung Marr</td>\n",
       "      <td>144.971387</td>\n",
       "      <td>-37.818362</td>\n",
       "      <td>337.652778</td>\n",
       "    </tr>\n",
       "    <tr>\n",
       "      <th>8</th>\n",
       "      <td>Lygon St (East)</td>\n",
       "      <td>144.963654</td>\n",
       "      <td>-37.802688</td>\n",
       "      <td>134.302778</td>\n",
       "    </tr>\n",
       "    <tr>\n",
       "      <th>9</th>\n",
       "      <td>Collins St (North)</td>\n",
       "      <td>144.965517</td>\n",
       "      <td>-37.815804</td>\n",
       "      <td>632.898611</td>\n",
       "    </tr>\n",
       "    <tr>\n",
       "      <th>10</th>\n",
       "      <td>Melbourne Central-Elizabeth St (East)</td>\n",
       "      <td>144.962119</td>\n",
       "      <td>-37.811750</td>\n",
       "      <td>980.534722</td>\n",
       "    </tr>\n",
       "    <tr>\n",
       "      <th>11</th>\n",
       "      <td>QVM-Franklin St (North)</td>\n",
       "      <td>144.959346</td>\n",
       "      <td>-37.808418</td>\n",
       "      <td>111.865278</td>\n",
       "    </tr>\n",
       "    <tr>\n",
       "      <th>12</th>\n",
       "      <td>Webb Bridge</td>\n",
       "      <td>144.947179</td>\n",
       "      <td>-37.823697</td>\n",
       "      <td>185.009722</td>\n",
       "    </tr>\n",
       "    <tr>\n",
       "      <th>13</th>\n",
       "      <td>Princes Bridge</td>\n",
       "      <td>144.968336</td>\n",
       "      <td>-37.819141</td>\n",
       "      <td>1217.677778</td>\n",
       "    </tr>\n",
       "    <tr>\n",
       "      <th>14</th>\n",
       "      <td>Bourke St-Russell St (West)</td>\n",
       "      <td>144.968146</td>\n",
       "      <td>-37.812648</td>\n",
       "      <td>658.716667</td>\n",
       "    </tr>\n",
       "    <tr>\n",
       "      <th>15</th>\n",
       "      <td>QV Market-Peel St</td>\n",
       "      <td>144.956111</td>\n",
       "      <td>-37.809284</td>\n",
       "      <td>131.002778</td>\n",
       "    </tr>\n",
       "    <tr>\n",
       "      <th>16</th>\n",
       "      <td>Bourke Street Mall (South)</td>\n",
       "      <td>144.964530</td>\n",
       "      <td>-37.813829</td>\n",
       "      <td>938.318056</td>\n",
       "    </tr>\n",
       "    <tr>\n",
       "      <th>17</th>\n",
       "      <td>St Kilda Rd-Alexandra Gardens</td>\n",
       "      <td>144.972153</td>\n",
       "      <td>-37.820264</td>\n",
       "      <td>302.673611</td>\n",
       "    </tr>\n",
       "    <tr>\n",
       "      <th>18</th>\n",
       "      <td>Bourke Street Mall (North)</td>\n",
       "      <td>144.964639</td>\n",
       "      <td>-37.813874</td>\n",
       "      <td>1364.259722</td>\n",
       "    </tr>\n",
       "    <tr>\n",
       "      <th>19</th>\n",
       "      <td>Waterfront City</td>\n",
       "      <td>144.939174</td>\n",
       "      <td>-37.815250</td>\n",
       "      <td>116.248611</td>\n",
       "    </tr>\n",
       "    <tr>\n",
       "      <th>20</th>\n",
       "      <td>Spencer St-Collins St (North)</td>\n",
       "      <td>144.954199</td>\n",
       "      <td>-37.818777</td>\n",
       "      <td>1359.813889</td>\n",
       "    </tr>\n",
       "    <tr>\n",
       "      <th>21</th>\n",
       "      <td>Lonsdale St-Spring St (West)</td>\n",
       "      <td>144.972235</td>\n",
       "      <td>-37.809264</td>\n",
       "      <td>293.047222</td>\n",
       "    </tr>\n",
       "    <tr>\n",
       "      <th>22</th>\n",
       "      <td>Monash Rd-Swanston St (West)</td>\n",
       "      <td>144.964194</td>\n",
       "      <td>-37.798342</td>\n",
       "      <td>160.850000</td>\n",
       "    </tr>\n",
       "    <tr>\n",
       "      <th>23</th>\n",
       "      <td>Pelham St (S)</td>\n",
       "      <td>144.963782</td>\n",
       "      <td>-37.802252</td>\n",
       "      <td>103.565278</td>\n",
       "    </tr>\n",
       "    <tr>\n",
       "      <th>24</th>\n",
       "      <td>Faraday St-Lygon St (West)</td>\n",
       "      <td>144.967213</td>\n",
       "      <td>-37.798475</td>\n",
       "      <td>212.659722</td>\n",
       "    </tr>\n",
       "    <tr>\n",
       "      <th>25</th>\n",
       "      <td>Southbank</td>\n",
       "      <td>144.965118</td>\n",
       "      <td>-37.819909</td>\n",
       "      <td>1503.180556</td>\n",
       "    </tr>\n",
       "    <tr>\n",
       "      <th>26</th>\n",
       "      <td>Southern Cross Station</td>\n",
       "      <td>144.952528</td>\n",
       "      <td>-37.818261</td>\n",
       "      <td>761.659722</td>\n",
       "    </tr>\n",
       "    <tr>\n",
       "      <th>27</th>\n",
       "      <td>Melbourne Convention Exhibition Centre</td>\n",
       "      <td>144.957249</td>\n",
       "      <td>-37.825960</td>\n",
       "      <td>575.306944</td>\n",
       "    </tr>\n",
       "    <tr>\n",
       "      <th>28</th>\n",
       "      <td>Flinders St-Elizabeth St (East)</td>\n",
       "      <td>144.964866</td>\n",
       "      <td>-37.818012</td>\n",
       "      <td>1475.880556</td>\n",
       "    </tr>\n",
       "    <tr>\n",
       "      <th>29</th>\n",
       "      <td>Lonsdale St (South)</td>\n",
       "      <td>144.962198</td>\n",
       "      <td>-37.812020</td>\n",
       "      <td>546.048611</td>\n",
       "    </tr>\n",
       "    <tr>\n",
       "      <th>30</th>\n",
       "      <td>Alfred Place</td>\n",
       "      <td>144.970204</td>\n",
       "      <td>-37.814369</td>\n",
       "      <td>235.655556</td>\n",
       "    </tr>\n",
       "    <tr>\n",
       "      <th>31</th>\n",
       "      <td>Flagstaff Station</td>\n",
       "      <td>144.956343</td>\n",
       "      <td>-37.811616</td>\n",
       "      <td>0.000000</td>\n",
       "    </tr>\n",
       "    <tr>\n",
       "      <th>32</th>\n",
       "      <td>Victoria Point</td>\n",
       "      <td>144.946362</td>\n",
       "      <td>-37.818074</td>\n",
       "      <td>186.931944</td>\n",
       "    </tr>\n",
       "    <tr>\n",
       "      <th>33</th>\n",
       "      <td>QV Market-Elizabeth St (West)</td>\n",
       "      <td>144.955749</td>\n",
       "      <td>-37.807207</td>\n",
       "      <td>590.136111</td>\n",
       "    </tr>\n",
       "    <tr>\n",
       "      <th>34</th>\n",
       "      <td>Queen St (West)</td>\n",
       "      <td>144.959675</td>\n",
       "      <td>-37.812655</td>\n",
       "      <td>306.694444</td>\n",
       "    </tr>\n",
       "    <tr>\n",
       "      <th>35</th>\n",
       "      <td>Grattan St-Swanston St (West)</td>\n",
       "      <td>144.963920</td>\n",
       "      <td>-37.800391</td>\n",
       "      <td>187.529167</td>\n",
       "    </tr>\n",
       "    <tr>\n",
       "      <th>36</th>\n",
       "      <td>Flinders La-Swanston St (West)</td>\n",
       "      <td>144.966988</td>\n",
       "      <td>-37.816468</td>\n",
       "      <td>1736.158333</td>\n",
       "    </tr>\n",
       "    <tr>\n",
       "      <th>37</th>\n",
       "      <td>QVM-Therry St (South)</td>\n",
       "      <td>144.955809</td>\n",
       "      <td>-37.807495</td>\n",
       "      <td>220.444444</td>\n",
       "    </tr>\n",
       "    <tr>\n",
       "      <th>38</th>\n",
       "      <td>Lincoln-Swanston(West)</td>\n",
       "      <td>144.963600</td>\n",
       "      <td>-37.802399</td>\n",
       "      <td>0.000000</td>\n",
       "    </tr>\n",
       "    <tr>\n",
       "      <th>39</th>\n",
       "      <td>New Quay</td>\n",
       "      <td>144.946014</td>\n",
       "      <td>-37.815018</td>\n",
       "      <td>218.184722</td>\n",
       "    </tr>\n",
       "    <tr>\n",
       "      <th>40</th>\n",
       "      <td>Town Hall (West)</td>\n",
       "      <td>144.966237</td>\n",
       "      <td>-37.814815</td>\n",
       "      <td>1346.104167</td>\n",
       "    </tr>\n",
       "    <tr>\n",
       "      <th>41</th>\n",
       "      <td>Spencer St-Collins St (South)</td>\n",
       "      <td>144.954999</td>\n",
       "      <td>-37.818882</td>\n",
       "      <td>362.838889</td>\n",
       "    </tr>\n",
       "    <tr>\n",
       "      <th>42</th>\n",
       "      <td>Chinatown-Swanston St (North)</td>\n",
       "      <td>144.965545</td>\n",
       "      <td>-37.812445</td>\n",
       "      <td>574.781944</td>\n",
       "    </tr>\n",
       "    <tr>\n",
       "      <th>43</th>\n",
       "      <td>Lygon St (West)</td>\n",
       "      <td>144.966628</td>\n",
       "      <td>-37.803065</td>\n",
       "      <td>212.659722</td>\n",
       "    </tr>\n",
       "    <tr>\n",
       "      <th>44</th>\n",
       "      <td>Flinders St-Spark La</td>\n",
       "      <td>144.973991</td>\n",
       "      <td>-37.815413</td>\n",
       "      <td>132.755556</td>\n",
       "    </tr>\n",
       "    <tr>\n",
       "      <th>45</th>\n",
       "      <td>Collins Place (North)</td>\n",
       "      <td>144.973062</td>\n",
       "      <td>-37.813492</td>\n",
       "      <td>294.306944</td>\n",
       "    </tr>\n",
       "    <tr>\n",
       "      <th>46</th>\n",
       "      <td>State Library</td>\n",
       "      <td>144.964438</td>\n",
       "      <td>-37.810503</td>\n",
       "      <td>780.905556</td>\n",
       "    </tr>\n",
       "    <tr>\n",
       "      <th>47</th>\n",
       "      <td>Sandridge Bridge</td>\n",
       "      <td>144.963044</td>\n",
       "      <td>-37.819738</td>\n",
       "      <td>0.000000</td>\n",
       "    </tr>\n",
       "    <tr>\n",
       "      <th>48</th>\n",
       "      <td>Flinders St-Swanston St (West)</td>\n",
       "      <td>144.967340</td>\n",
       "      <td>-37.817320</td>\n",
       "      <td>0.000000</td>\n",
       "    </tr>\n",
       "    <tr>\n",
       "      <th>49</th>\n",
       "      <td>Tin Alley-Swanston St (West)</td>\n",
       "      <td>144.964465</td>\n",
       "      <td>-37.796868</td>\n",
       "      <td>85.570833</td>\n",
       "    </tr>\n",
       "    <tr>\n",
       "      <th>50</th>\n",
       "      <td>Little Collins St-Swanston St (East)</td>\n",
       "      <td>144.965964</td>\n",
       "      <td>-37.814247</td>\n",
       "      <td>876.350000</td>\n",
       "    </tr>\n",
       "    <tr>\n",
       "      <th>51</th>\n",
       "      <td>QVM-Queen St (East)</td>\n",
       "      <td>144.958603</td>\n",
       "      <td>-37.806216</td>\n",
       "      <td>239.955556</td>\n",
       "    </tr>\n",
       "    <tr>\n",
       "      <th>52</th>\n",
       "      <td>Elizabeth St-Lonsdale St (South)</td>\n",
       "      <td>144.961930</td>\n",
       "      <td>-37.812467</td>\n",
       "      <td>399.070833</td>\n",
       "    </tr>\n",
       "  </tbody>\n",
       "</table>\n",
       "</div>"
      ],
      "text/plain": [
       "                                    Street   Longitude   Latitude       volume\n",
       "0                              City Square  144.966698 -37.815852     0.000000\n",
       "1           Chinatown-Lt Bourke St (South)  144.968251 -37.811658   390.584722\n",
       "2                          The Arts Centre  144.969059 -37.821503   999.794444\n",
       "3             Flinders St-Spring St (West)  144.974818 -37.815048   171.988889\n",
       "4                    Collins Place (South)  144.973141 -37.813607   432.605556\n",
       "5                        Melbourne Central  144.964031 -37.810156  1176.209722\n",
       "6        Flinders Street Station Underpass  144.965511 -37.819102  1275.204167\n",
       "7                           Birrarung Marr  144.971387 -37.818362   337.652778\n",
       "8                          Lygon St (East)  144.963654 -37.802688   134.302778\n",
       "9                       Collins St (North)  144.965517 -37.815804   632.898611\n",
       "10   Melbourne Central-Elizabeth St (East)  144.962119 -37.811750   980.534722\n",
       "11                 QVM-Franklin St (North)  144.959346 -37.808418   111.865278\n",
       "12                             Webb Bridge  144.947179 -37.823697   185.009722\n",
       "13                          Princes Bridge  144.968336 -37.819141  1217.677778\n",
       "14             Bourke St-Russell St (West)  144.968146 -37.812648   658.716667\n",
       "15                       QV Market-Peel St  144.956111 -37.809284   131.002778\n",
       "16              Bourke Street Mall (South)  144.964530 -37.813829   938.318056\n",
       "17           St Kilda Rd-Alexandra Gardens  144.972153 -37.820264   302.673611\n",
       "18              Bourke Street Mall (North)  144.964639 -37.813874  1364.259722\n",
       "19                         Waterfront City  144.939174 -37.815250   116.248611\n",
       "20           Spencer St-Collins St (North)  144.954199 -37.818777  1359.813889\n",
       "21            Lonsdale St-Spring St (West)  144.972235 -37.809264   293.047222\n",
       "22            Monash Rd-Swanston St (West)  144.964194 -37.798342   160.850000\n",
       "23                           Pelham St (S)  144.963782 -37.802252   103.565278\n",
       "24              Faraday St-Lygon St (West)  144.967213 -37.798475   212.659722\n",
       "25                               Southbank  144.965118 -37.819909  1503.180556\n",
       "26                  Southern Cross Station  144.952528 -37.818261   761.659722\n",
       "27  Melbourne Convention Exhibition Centre  144.957249 -37.825960   575.306944\n",
       "28         Flinders St-Elizabeth St (East)  144.964866 -37.818012  1475.880556\n",
       "29                     Lonsdale St (South)  144.962198 -37.812020   546.048611\n",
       "30                            Alfred Place  144.970204 -37.814369   235.655556\n",
       "31                       Flagstaff Station  144.956343 -37.811616     0.000000\n",
       "32                          Victoria Point  144.946362 -37.818074   186.931944\n",
       "33           QV Market-Elizabeth St (West)  144.955749 -37.807207   590.136111\n",
       "34                         Queen St (West)  144.959675 -37.812655   306.694444\n",
       "35           Grattan St-Swanston St (West)  144.963920 -37.800391   187.529167\n",
       "36          Flinders La-Swanston St (West)  144.966988 -37.816468  1736.158333\n",
       "37                   QVM-Therry St (South)  144.955809 -37.807495   220.444444\n",
       "38                  Lincoln-Swanston(West)  144.963600 -37.802399     0.000000\n",
       "39                                New Quay  144.946014 -37.815018   218.184722\n",
       "40                        Town Hall (West)  144.966237 -37.814815  1346.104167\n",
       "41           Spencer St-Collins St (South)  144.954999 -37.818882   362.838889\n",
       "42           Chinatown-Swanston St (North)  144.965545 -37.812445   574.781944\n",
       "43                         Lygon St (West)  144.966628 -37.803065   212.659722\n",
       "44                    Flinders St-Spark La  144.973991 -37.815413   132.755556\n",
       "45                   Collins Place (North)  144.973062 -37.813492   294.306944\n",
       "46                           State Library  144.964438 -37.810503   780.905556\n",
       "47                        Sandridge Bridge  144.963044 -37.819738     0.000000\n",
       "48          Flinders St-Swanston St (West)  144.967340 -37.817320     0.000000\n",
       "49            Tin Alley-Swanston St (West)  144.964465 -37.796868    85.570833\n",
       "50    Little Collins St-Swanston St (East)  144.965964 -37.814247   876.350000\n",
       "51                     QVM-Queen St (East)  144.958603 -37.806216   239.955556\n",
       "52        Elizabeth St-Lonsdale St (South)  144.961930 -37.812467   399.070833"
      ]
     },
     "execution_count": 38,
     "metadata": {},
     "output_type": "execute_result"
    }
   ],
   "source": [
    "data"
   ]
  },
  {
   "cell_type": "code",
   "execution_count": 41,
   "metadata": {},
   "outputs": [],
   "source": [
    "geojson_volume = []\n",
    "for i in data.to_dict(orient='record'):\n",
    "    point ={\n",
    "            \"type\": 'Feature',\n",
    "            \"geometry\": {\n",
    "            \"type\": 'Point',\n",
    "            \"coordinates\": [float(i['Longitude']),float(i['Latitude']),]},\n",
    "            \"properties\":{}}\n",
    "    point[\"properties\"] = {\n",
    "            \"description\": \"<p><strong>Volume:\"+ str(i['volume']) +\"</p>\"\n",
    "        }\n",
    "    geojson_volume.append(point)"
   ]
  },
  {
   "cell_type": "code",
   "execution_count": 42,
   "metadata": {
    "collapsed": true
   },
   "outputs": [],
   "source": [
    "import json\n",
    "from geojson import Point, Feature, FeatureCollection, dump\n",
    "\n",
    "feature_collection_2 = FeatureCollection(geojson_volume)\n",
    "\n",
    "with open('volume.geojson', 'w') as f:\n",
    "   dump(feature_collection_2, f)"
   ]
  },
  {
   "cell_type": "code",
   "execution_count": null,
   "metadata": {
    "collapsed": true
   },
   "outputs": [],
   "source": []
  }
 ],
 "metadata": {
  "kernelspec": {
   "display_name": "Python 3",
   "language": "python",
   "name": "python3"
  },
  "language_info": {
   "codemirror_mode": {
    "name": "ipython",
    "version": 3
   },
   "file_extension": ".py",
   "mimetype": "text/x-python",
   "name": "python",
   "nbconvert_exporter": "python",
   "pygments_lexer": "ipython3",
   "version": "3.6.2"
  }
 },
 "nbformat": 4,
 "nbformat_minor": 2
}
