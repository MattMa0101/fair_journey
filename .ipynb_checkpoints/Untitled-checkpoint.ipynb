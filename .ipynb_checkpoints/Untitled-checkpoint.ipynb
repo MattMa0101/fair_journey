{
 "cells": [
  {
   "cell_type": "code",
   "execution_count": 1,
   "metadata": {
    "collapsed": true
   },
   "outputs": [],
   "source": [
    "import pandas as pd\n",
    "import json"
   ]
  },
  {
   "cell_type": "code",
   "execution_count": null,
   "metadata": {
    "collapsed": true
   },
   "outputs": [],
   "source": [
    "data = pd.read_csv(\"rwe_point.csv\")"
   ]
  },
  {
   "cell_type": "code",
   "execution_count": null,
   "metadata": {},
   "outputs": [],
   "source": [
    "data.info()"
   ]
  },
  {
   "cell_type": "code",
   "execution_count": null,
   "metadata": {},
   "outputs": [],
   "source": [
    "data.head()"
   ]
  },
  {
   "cell_type": "code",
   "execution_count": null,
   "metadata": {
    "collapsed": true
   },
   "outputs": [],
   "source": [
    "data2 = data.drop([\"FID\",\"days_applicable\",\"dt_modified\",\"dt_created\",\"subject_pref_rdname\",\"timestamp\",\"processed_time\"],axis=1)"
   ]
  },
  {
   "cell_type": "code",
   "execution_count": null,
   "metadata": {},
   "outputs": [],
   "source": [
    "data2.info()"
   ]
  },
  {
   "cell_type": "code",
   "execution_count": null,
   "metadata": {},
   "outputs": [],
   "source": [
    "data2.columns"
   ]
  },
  {
   "cell_type": "code",
   "execution_count": null,
   "metadata": {},
   "outputs": [],
   "source": [
    "data2[data2.lanes_affected != 0].shape"
   ]
  },
  {
   "cell_type": "code",
   "execution_count": null,
   "metadata": {
    "collapsed": true
   },
   "outputs": [],
   "source": [
    "data3 = data2.drop(['start_pref_rdname',\n",
    "       'end_pref_rdname', 'lrs_start_locality', 'lrs_end_locality',\n",
    "       'lrs_rmaclass', 'lrs_srns', 'lrs_lga', 'lrs_ses_region', 'lrs_melway',\n",
    "       'lrs_vcsd', 'geom', 'works_type', 'speed_limit',],axis =1)"
   ]
  },
  {
   "cell_type": "code",
   "execution_count": null,
   "metadata": {},
   "outputs": [],
   "source": [
    "data3.to_dict(orient='record')[0]"
   ]
  },
  {
   "cell_type": "code",
   "execution_count": null,
   "metadata": {},
   "outputs": [],
   "source": [
    "geojson = []\n",
    "for i in data3.to_dict(orient='record'):\n",
    "    if i[\"lanes_affected\"] != 0:\n",
    "        point ={\n",
    "            \"type\": 'Feature',\n",
    "            \"geometry\": {\n",
    "            \"type\": 'Point',\n",
    "            \"coordinates\": [float(i['rwe_point'].split(\" \")[1][1:]), float(i['rwe_point'].split(\" \")[2][:-1])]},\n",
    "            \"properties\":{}}\n",
    "        point[\"properties\"] = {\n",
    "            \"title\":i['rwe_id'],\n",
    "            \"description\": \"<p>Closure Type: \" + i['rwe_closure_type'] + \"</p><p>Start Date: \" + i[\"rwe_start_dt\"] + \"</p><p>End Date: \" + i[\"rwe_end_dt\"]\n",
    "                            + \"</p><p>Information: \" + i[\"rwe_publish_text\"] + \"</p>\",\n",
    "            'marker-color': '#3bb2d0',\n",
    "            'marker-size': 'large',\n",
    "            'marker-symbol': 'rocket',\n",
    "        }\n",
    "        geojson.append(point)\n",
    "   "
   ]
  },
  {
   "cell_type": "code",
   "execution_count": null,
   "metadata": {},
   "outputs": [],
   "source": [
    "len(geojson)"
   ]
  },
  {
   "cell_type": "code",
   "execution_count": null,
   "metadata": {
    "collapsed": true
   },
   "outputs": [],
   "source": [
    "col =[]\n",
    "for i in geojson:\n",
    "    if i['geometry']['coordinates'][0] >144.948070 and i['geometry']['coordinates'][0] < 144.980588:\n",
    "        if i['geometry']['coordinates'][1] > -37.82475 and i['geometry']['coordinates'][1]<-37.805908:\n",
    "            col.append(i)"
   ]
  },
  {
   "cell_type": "code",
   "execution_count": null,
   "metadata": {},
   "outputs": [],
   "source": [
    "col"
   ]
  },
  {
   "cell_type": "code",
   "execution_count": null,
   "metadata": {
    "collapsed": true
   },
   "outputs": [],
   "source": []
  },
  {
   "cell_type": "code",
   "execution_count": null,
   "metadata": {
    "collapsed": true
   },
   "outputs": [],
   "source": [
    "import json\n",
    "from geojson import Point, Feature, FeatureCollection, dump\n",
    "\n",
    "feature_collection = FeatureCollection(geojson)\n",
    "\n",
    "with open('myfile.geojson', 'w') as f:\n",
    "   dump(feature_collection, f)"
   ]
  },
  {
   "cell_type": "code",
   "execution_count": null,
   "metadata": {
    "collapsed": true
   },
   "outputs": [],
   "source": []
  },
  {
   "cell_type": "code",
   "execution_count": 2,
   "metadata": {
    "collapsed": true
   },
   "outputs": [],
   "source": [
    "surface = pd.read_csv(\"com_road_surfaces.csv\")"
   ]
  },
  {
   "cell_type": "code",
   "execution_count": 4,
   "metadata": {},
   "outputs": [],
   "source": [
    "footway = surface[surface.type == \"Footway\"]"
   ]
  },
  {
   "cell_type": "code",
   "execution_count": 15,
   "metadata": {},
   "outputs": [],
   "source": [
    "list = []\n",
    "for i in footway.the_geom[4][16:-3].split(','):\n",
    "    log = (i.strip().split(\" \")[0])\n",
    "    lat = (i.strip().split(\" \")[1])\n",
    "    list.append([log,lat])"
   ]
  },
  {
   "cell_type": "code",
   "execution_count": 16,
   "metadata": {},
   "outputs": [
    {
     "data": {
      "text/plain": [
       "[['144.944223631378', '-37.818864480568'],\n",
       " ['', '144.944211688101'],\n",
       " ['', '144.944197840965'],\n",
       " ['', '144.944189080822'],\n",
       " ['', '144.944147729898'],\n",
       " ['', '144.944143932523'],\n",
       " ['', '144.944174812679'],\n",
       " ['', '144.944192560504'],\n",
       " ['', '144.944206715512'],\n",
       " ['', '144.944223631378']]"
      ]
     },
     "execution_count": 16,
     "metadata": {},
     "output_type": "execute_result"
    }
   ],
   "source": [
    "list"
   ]
  },
  {
   "cell_type": "code",
   "execution_count": null,
   "metadata": {
    "collapsed": true
   },
   "outputs": [],
   "source": []
  }
 ],
 "metadata": {
  "kernelspec": {
   "display_name": "Python 3",
   "language": "python",
   "name": "python3"
  },
  "language_info": {
   "codemirror_mode": {
    "name": "ipython",
    "version": 3
   },
   "file_extension": ".py",
   "mimetype": "text/x-python",
   "name": "python",
   "nbconvert_exporter": "python",
   "pygments_lexer": "ipython3",
   "version": "3.6.2"
  }
 },
 "nbformat": 4,
 "nbformat_minor": 2
}
